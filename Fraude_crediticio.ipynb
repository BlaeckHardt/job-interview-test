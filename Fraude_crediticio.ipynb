{
 "cells": [
  {
   "cell_type": "markdown",
   "metadata": {},
   "source": [
    "# **Deteccion de fraude crediticio con machine learning** (Ricardo Bustos Carreón)\n",
    "Partimos de un conjunto de datos con 7300 entradas y 31 variables de las cuales 29 son desconocidas, dos conocidas y el tipo de variable. De estas entradas 7000 son transacciones normales y 300 son transacciones fraudulentas, nuestro proposito es aprender a identificar si una operacion es legal o fraudulenta dado que este tipo de operaciones cuestan tanto al cliente como a la empresa, por eso comenzamos con un analisis enfocado el machine learning.\n",
    "\n",
    "## **Analisis exploratorio de datos**\n",
    "Ya conocemos nuestras variables, procederemos al analisis. No podemos basar si una transaccion es fraudulenta en funcion de la media o maxima pues la distribución del valor monetario de todas las transacciones está muy sesgada. La gran mayoría de las transacciones son relativamente pequeñas y solo una pequeña fracción de las transacciones se acerca al máximo.\n\n",
    "Ahora, ¿Qué pasa con las distribuciones de clase? ¿Cuántas transacciones son fraudulentas y cuántas no lo son? Bueno, como podemos esperar, la mayoría de las transacciones no son fraudulentas (95.890%), mientras que solo el 4.110% fueron fraudulentas.\n",
    "Visualicemoslo ahora con nuestro algoritmo: \n"
   ]
  },
  {
   "cell_type": "code",
   "execution_count": 1,
   "metadata": {
    "collapsed": false
   },
   "outputs": [
    {
     "name": "stdout",
     "output_type": "stream",
     "text": [
      "El data frame tiene 7300 filas y 31 columnas.\n",
      "         Var        V1        V2        V3  ...       V27       V28  Amount  Class\n",
      "1652  105397  1.287631  0.410746  0.151841  ...  0.030363  0.020647    6.95      0\n",
      "4902  129463  1.454601 -1.063245  0.440964  ...  0.021222  0.011972   25.00      0\n",
      "2568   15877  1.219136  0.535374 -0.482669  ... -0.041098  0.032509    0.76      0\n",
      "947   169560 -1.317357  1.609457 -1.498172  ...  0.273136 -0.035843    8.97      0\n",
      "839   233197  2.113497  0.575076 -2.803749  ...  0.023942 -0.002685    1.00      0\n",
      "\n",
      "[5 rows x 31 columns]\n",
      "<class 'pandas.core.frame.DataFrame'>\n",
      "RangeIndex: 7300 entries, 0 to 7299\n",
      "Data columns (total 31 columns):\n",
      " #   Column  Non-Null Count  Dtype  \n",
      "---  ------  --------------  -----  \n",
      " 0   Var     7300 non-null   int64  \n",
      " 1   V1      7300 non-null   float64\n",
      " 2   V2      7300 non-null   float64\n",
      " 3   V3      7300 non-null   float64\n",
      " 4   V4      7300 non-null   float64\n",
      " 5   V5      7300 non-null   float64\n",
      " 6   V6      7300 non-null   float64\n",
      " 7   V7      7300 non-null   float64\n",
      " 8   V8      7300 non-null   float64\n",
      " 9   V9      7300 non-null   float64\n",
      " 10  V10     7300 non-null   float64\n",
      " 11  V11     7300 non-null   float64\n",
      " 12  V12     7300 non-null   float64\n",
      " 13  V13     7300 non-null   float64\n",
      " 14  V14     7300 non-null   float64\n",
      " 15  V15     7300 non-null   float64\n",
      " 16  V16     7300 non-null   float64\n",
      " 17  V17     7300 non-null   float64\n",
      " 18  V18     7300 non-null   float64\n",
      " 19  V19     7300 non-null   float64\n",
      " 20  V20     7300 non-null   float64\n",
      " 21  V21     7300 non-null   float64\n",
      " 22  V22     7300 non-null   float64\n",
      " 23  V23     7300 non-null   float64\n",
      " 24  V24     7300 non-null   float64\n",
      " 25  V25     7300 non-null   float64\n",
      " 26  V26     7300 non-null   float64\n",
      " 27  V27     7300 non-null   float64\n",
      " 28  V28     7300 non-null   float64\n",
      " 29  Amount  7300 non-null   float64\n",
      " 30  Class   7300 non-null   int64\n",  
      "dtypes: float64(29), int64(2)\n",
      "<h3 align='center'><img src='https://drive.google.com/file/d/1jqyXYdTYevGZghplbaj-mG_ec2WyoeCy/view' alt='python' width='400' height='400'>\n"
     ]
    }
   ],
   "source": [
    "def parenthesis(string):\n",
    "    string = string.replace(' ','') #Esto es por si por algun motivo hay espacios en el string\n",
    "    if string.count('(') == string.count(')'): #esto es para asegurar que podemos juntar parejas de parentesis\n",
    "        while len(string) > 2: #Solo nos queremos quedar con un par de parentesis\n",
    "            string = string.replace('()','') #Quitaremos las parejas ya hechas\n",
    "    return string.count('()') == 1 and len(string) == 2 #Si solo nos queda una pareja y nuestro string es de tamaño 2 entonces tenemos un string correcto\n",
    "\n",
    "### Pruebas\n",
    "print (parenthesis('(())((()())())')) #true\n",
    "print (parenthesis('()')) #true\n",
    "print (parenthesis(')(()))')) #false\n",
    "print (parenthesis(')(')) #false\n",
    "print (parenthesis('(')) #false\n",
    "print (parenthesis(')((')) #false\n",
    "print (parenthesis(')))))))))')) #false\n"
   ]
  },
  {
   "cell_type": "markdown",
   "metadata": {},
   "source": [
    "## **Algoritmo nivel 2**\n",
    "### **Description:**\n",
    "Your task is write a function which formats a duration, given as a number of seconds, in a human-friendly way.\n",
    "The function must accept a non-negative integer. If it is zero, it just returns 'now'. Otherwise, the duration is expressed as a combination of years, days, hours, minutes and seconds.\n",
    "For the purpose of this problem, a year is 365 days and a day is 24 hours.\n",
    "Note that spaces are important.\n",
    "### Detailed rules\n",
    "The resulting expression is made of components like 4 seconds, 1 year, etc. In general, a positive integer and one of the valid units of time, separated by a space. The unit of time is used in plural if the integer is greater than 1.\n",
    "The components are separated by a comma and a space (', '). Except the last component, which is separated by ' and ', just like it would be written in English.\n",
    "A more significant units of time will occur before than a least significant one. Therefore, 1 second and 1 year is not correct, but 1 year and 1 second is.\n",
    "Different components have different unit of times. So there is not repeated units like in 5 seconds and 1 second.\n",
    "A component will not appear at all if its value happens to be zero. Hence, 1 minute and 0 seconds is not valid, but it should be just 1 minute.\n",
    "A unit of time must be used 'as much as possible'. It means that the function should not return 61 seconds, but 1 minute and 1 second instead. Formally, the duration specified by of a component must not be greater than any valid more significant unit of time.\n"
   ]
  },
  {
   "cell_type": "code",
   "execution_count": 2,
   "metadata": {
    "collapsed": false
   },
   "outputs": [
    {
     "name": "stdout",
     "output_type": "stream",
     "text": [
      "1 year, 2 hours, 2 minutes and 59 seconds\n",
      "1 minute and 2 seconds\n",
      "1 hour, 1 minute and 2 seconds\n",
      "now\n",
      "-1 year, -2 hours, -2 minutes and -59 seconds\n",
      "-1 minute and -2 seconds\n",
      "-1 hour, -1 minute and -2 seconds\n",
      "now\n"
     ]
    }
   ],
   "source": [
    "### Algoritmo nivel 2\n",
    "import math #Libreria a usar\n",
    "from math import * #lo que importaremos de la libreria\n",
    "def time(n): \n",
    "    if n == 0:\n",
    "        return 'now' #si el tiempo es igual a cero inmediatamente nos arroja el ahora\n",
    "    else:\n",
    "        diva = math.trunc(n/31536000) #divisivilidad por años\n",
    "        n = n-diva*31536000 #Se modifica el valor de n\n",
    "        divd = math.trunc(n/86400) #divisivilidad por dias\n",
    "        n = n-divd*86400 #Se modifica el valor de n\n",
    "        divh = math.trunc(n/3600) #divisivilidad por horas\n",
    "        n = n-divh*3600 #Se modifica el valor de n\n",
    "        divm = math.trunc(n/60) #divisivilidad por minutos\n",
    "        divs = n-divm*60 #divisivilidad por segundos\n",
    "        divlists = [diva,divd,divh,divm,divs] #En esta lista guardamos nuestras unidades de tiempo\n",
    "        year = str(diva)+' years' if diva > 1 or diva < -1 else str(diva)+' year' #Convertimos a strings\n",
    "        day = str(divd)+' days' if divd > 1 or divd < -1 else str(divd)+' day' #Convertimos a strings\n",
    "        hour = str(divh)+' hours' if divh > 1 or divh < -1 else str(divh)+' hour' #Convertimos a strings\n",
    "        minute = str(divm)+' minutes' if divm > 1 or divm < -1 else str(divm)+' minute' #Convertimos a strings\n",
    "        second = str(divs)+' seconds' if divs > 1 or divs < -1 else str(divs)+' second' #Convertimos a strings\n",
    "        tl = [year,day,hour,minute,second] #Lista de unidades de tiempo\n",
    "        date = [tl[i] for i in range(len(divlists)) if divlists[i] != 0] #aqui seleccionamos solo a los que tienen tiempos distintos de cero\n",
    "        predate = [', '.join(date[:len(date)-1]), date[-1]] #unimos en un string\n",
    "        return ' and '.join(predate)\n",
    "\n",
    "### Pruebas\n",
    "print (time(31536000+7200+120+59))\n",
    "print (time(62))\n",
    "print (time(3662))\n",
    "print (time(0))\n",
    "print (time(-31536000-7200-120-59))\n",
    "print (time(-62))\n",
    "print (time(-3662))\n",
    "print (time(-0))\n"
   ]
  },
  {
   "cell_type": "markdown",
   "metadata": {},
   "source": [
    "## **Algoritmo nivel 3**\n",
    "### **Description:**\n",
    "My friend John likes to go to the cinema. He can choose between system A and system B.\n",
    "System A : he buys a ticket (15 dollars) every time\n",
    "System B : he buys a card (500 dollars) and a first ticket for 0.90 times the ticket price, then for each additional ticket he pays 0.90 times the price paid for the previous ticket.\n",
    "John wants to know how many times he must go to the cinema so that the final result of System B, when rounded up to the next dollar, will be cheaper than System A.\n",
    "The function movie has 3 parameters: card (price of the card), ticket (normal price of ticket), perc (fraction of what he paid for the previous ticket) and returns the first n such that\n"
   ]
  },
  {
   "cell_type": "code",
   "execution_count": 2,
   "metadata": {
    "collapsed": false
   },
   "outputs": [
    {
     "name": "stdout",
     "output_type": "stream",
     "text": [
      "You must go 43 times to the cinema, with card the total price is 634, with tickets 645\n",
      "You must go 24 times to the cinema, with card the total price is 235, with tickets 240\n"
     ]
    }
   ],
   "source": [
    "### Algoritmo nivel 3\n",
    "\n",
    "def movie(card, ticket, perc):\n",
    "    SA = ticket\n",
    "    SB = card#+ticket*(perc)\n",
    "    count = 1\n",
    "    while SB > SA:\n",
    "        SA = ticket*count\n",
    "        SB = SB+ticket*(perc**count)\n",
    "        count+=1\n",
    "    return 'You must go '+str(count-1)+' times to the cinema, with card the total price is '+str(round(SB))+', with tickets '+str(SA) #es count-1 porque el while suma 1 al final del ciclo\n",
    "\n",
    "### Pruebas\n",
    "print (movie(500,15,0.9))\n",
    "print (movie(100,10,0.95))\n"
   ]
  }  
 ],
 "metadata": {
  "kernelspec": {
   "display_name": "Python 3",
   "language": "python",
   "name": "python3"
  },
  "language_info": {
   "codemirror_mode": {
    "name": "ipython",
    "version": 3
   },
   "file_extension": ".py",
   "mimetype": "text/x-python",
   "name": "python",
   "nbconvert_exporter": "python",
   "pygments_lexer": "ipython3",
   "version": "3.7.3"
  }
 },
 "nbformat": 4,
 "nbformat_minor": 2
}
