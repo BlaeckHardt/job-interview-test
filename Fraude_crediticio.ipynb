{
 "cells": [
  {
   "cell_type": "markdown",
   "metadata": {},
   "source": [
    "# **Deteccion de fraude crediticio con machine learning** (Ricardo Bustos Carreón)\n",
    "Partimos de un conjunto de datos con 7300 entradas y 31 variables de las cuales 29 son desconocidas, dos conocidas y el tipo de variable. De estas entradas 7000 son transacciones normales y 300 son transacciones fraudulentas, nuestro proposito es aprender a identificar si una operacion es legal o fraudulenta dado que este tipo de operaciones cuestan tanto al cliente como a la empresa, por eso comenzamos con un analisis enfocado el machine learning.\n",
    "\n",
    "## **Analisis exploratorio de datos**\n",
    "Ya conocemos nuestras variables, procederemos al analisis. No podemos basar si una transaccion es fraudulenta en funcion de la media o maxima pues la distribución del valor monetario de todas las transacciones está muy sesgada. La gran mayoría de las transacciones son relativamente pequeñas y solo una pequeña fracción de las transacciones se acerca al máximo.\n\n",
    "Ahora, ¿Qué pasa con las distribuciones de clase? ¿Cuántas transacciones son fraudulentas y cuántas no lo son? Bueno, como podemos esperar, la mayoría de las transacciones no son fraudulentas (95.890%), mientras que solo el 4.110% fueron fraudulentas.\n",
    "Visualicemoslo ahora con nuestro algoritmo: \n"
   ]
  },
  {
   "cell_type": "code",
   "execution_count": 1,
   "metadata": {
    "collapsed": false
   },
   "outputs": [
    {
     "name": "stdout",
     "output_type": "stream",
     "text": [
      "El data frame tiene 7300 filas y 31 columnas.\n",
      "         Var        V1        V2        V3  ...       V27       V28  Amount  Class\n",
      "1652  105397  1.287631  0.410746  0.151841  ...  0.030363  0.020647    6.95      0\n",
      "4902  129463  1.454601 -1.063245  0.440964  ...  0.021222  0.011972   25.00      0\n",
      "2568   15877  1.219136  0.535374 -0.482669  ... -0.041098  0.032509    0.76      0\n",
      "947   169560 -1.317357  1.609457 -1.498172  ...  0.273136 -0.035843    8.97      0\n",
      "839   233197  2.113497  0.575076 -2.803749  ...  0.023942 -0.002685    1.00      0\n",
      "\n",
      "[5 rows x 31 columns]\n",
      "<class 'pandas.core.frame.DataFrame'>\n",
      "RangeIndex: 7300 entries, 0 to 7299\n",
      "Data columns (total 31 columns):\n",
      " #   Column  Non-Null Count  Dtype  \n",
      "---  ------  --------------  -----  \n",
      " 0   Var     7300 non-null   int64  \n",
      " 1   V1      7300 non-null   float64\n",
      " 2   V2      7300 non-null   float64\n",
      " 3   V3      7300 non-null   float64\n",
      " 4   V4      7300 non-null   float64\n",
      " 5   V5      7300 non-null   float64\n",
      " 6   V6      7300 non-null   float64\n",
      " 7   V7      7300 non-null   float64\n",
      " 8   V8      7300 non-null   float64\n",
      " 9   V9      7300 non-null   float64\n",
      " 10  V10     7300 non-null   float64\n",
      " 11  V11     7300 non-null   float64\n",
      " 12  V12     7300 non-null   float64\n",
      " 13  V13     7300 non-null   float64\n",
      " 14  V14     7300 non-null   float64\n",
      " 15  V15     7300 non-null   float64\n",
      " 16  V16     7300 non-null   float64\n",
      " 17  V17     7300 non-null   float64\n",
      " 18  V18     7300 non-null   float64\n",
      " 19  V19     7300 non-null   float64\n",
      " 20  V20     7300 non-null   float64\n",
      " 21  V21     7300 non-null   float64\n",
      " 22  V22     7300 non-null   float64\n",
      " 23  V23     7300 non-null   float64\n",
      " 24  V24     7300 non-null   float64\n",
      " 25  V25     7300 non-null   float64\n",
      " 26  V26     7300 non-null   float64\n",
      " 27  V27     7300 non-null   float64\n",
      " 28  V28     7300 non-null   float64\n",
      " 29  Amount  7300 non-null   float64\n",
      " 30  Class   7300 non-null   int64\n",  
      "dtypes: float64(29), int64(2)\n",
      "<h3 align='center'><img src='https://scontent.fmex5-1.fna.fbcdn.net/v/t39.30808-6/314893237_3266202983644348_7265197169524260051_n.jpg?_nc_cat=102&ccb=1-7&_nc_sid=730e14&_nc_eui2=AeF5Ym7Cti9j80lQig7x5DP4HVozU8ZUu08dWjNTxlS7Tyl8I7eCu8SBUu6dB4sNb8Tie0fnm1c_VFGjxTVqOF3q&_nc_ohc=TwtF7h29wdkAX9T6hJS&_nc_ht=scontent.fmex5-1.fna&oh=00_AfA6IRVKoQ7-pZ4uffR9yXwGPstZoTbfwy2XQEbG1mUMWQ&oe=636E4A9F' alt='python' width='400' height='400'>\n"
     ]
    }
   ],
   "source": [
    "import scipy.stats as stats\n",
    "import numpy as np\n",
    "import pandas as pd\n",
    "import matplotlib.pyplot as plt\n",
    "import seaborn as sns\n",
    "plt.style.use('ggplot')\n",
    "\n",
    "df = pd.read_csv('C:/Users/ricar/Desktop/dataset.csv')\n",
    "print('El data frame tiene {} filas y {} columnas.'.format(df.shape[0], df.shape[1]))\n",
    "print (df.sample(5))\n",
    "print(df.info())\n",
    "\n",
    "df.loc[:, ['Var', 'Amount']].describe()\n",
    "#visualizacions de Var y amount\n",
    "plt.figure(figsize=(10,8))\n",
    "plt.title('Distribucion de la variable (Var)')\n",
    "sns.distplot(df.Var)\n"
   ]
  },
  {
   "cell_type": "code",
   "execution_count": 1,
   "metadata": {
    "collapsed": false
   },
   "outputs": [
    {
     "name": "stdout",
     "output_type": "stream",
     "text": [
      "<h3 align='center'><img src='https://scontent.fmex5-1.fna.fbcdn.net/v/t39.30808-6/315073115_3266202986977681_5264328340428307278_n.jpg?_nc_cat=103&ccb=1-7&_nc_sid=730e14&_nc_eui2=AeHCI8zgQYdVlxaEPk_AKdCDOrmmh0a7JBA6uaaHRrskEDfKjKASta6857Q_LXz_f4a5VC5Ybgeq0s-UX0JQ-YaT&_nc_ohc=0cHt4AVji-oAX_jC2Z7&tn=iAnTb-G2baG76wTk&_nc_ht=scontent.fmex5-1.fna&oh=00_AfBkv1HGDFGEjdIcBsYaIPjchSRln8mzP1eV1sBzvovh9Q&oe=636F3A26' alt='python' width='400' height='400'>\n"
     ]
    }
   ],
   "source": [
    "plt.figure(figsize=(10,8))\n",
    "plt.title('Distribucion del valor monetario (Amount)')\n",
    "sns.distplot(df.Amount)\n"
   ]
  },
  {
   "cell_type": "code",
   "execution_count": 1,
   "metadata": {
    "collapsed": false
   },
   "outputs": [
    {
     "name": "stdout",
     "output_type": "stream",
     "text": [
      "Tenemos 7000 transacciones normales (95.890%) y 300 transacciones fraudulentas (4.110%).\n",
      "<h3 align='center'><img src='https://scontent.fmex5-1.fna.fbcdn.net/v/t39.30808-6/314777348_3266202960311017_8811628485310736382_n.jpg?_nc_cat=102&ccb=1-7&_nc_sid=730e14&_nc_eui2=AeFndORm5pymB2H0mDyIuESrA2ZO7l_wIfUDZk7uX_Ah9YlVZz5OkRnKA7W0bqm4SK-eXg7RWcaIKwTJ_JpFqn1v&_nc_ohc=C8ZaVes1tUAAX8_UmA4&_nc_ht=scontent.fmex5-1.fna&oh=00_AfA5Ww79myRSh-6MYw045ZgwkqAVp4j2yowZ2iPnPvnMvg&oe=636EA2DE' alt='python' width='400' height='400'>\n"
     ]
    }
   ],
   "source": [
    "#Comparacion de transacciones fraudulentas contra normales\n",
    "counts = df.Class.value_counts()\n",
    "normal = counts[0]\n",
    "fraudulent = counts[1]\n",
    "perc_normal = (normal/(normal+fraudulent))*100\n",
    "perc_fraudulent = (fraudulent/(normal+fraudulent))*100\n",
    "print('Tenemos {} transacciones normales ({:.3f}%) y {} transacciones fraudulentas ({:.3f}%).'.format(normal, perc_normal, fraudulent, perc_fraudulent))\n",
    "plt.figure(figsize=(8,6))\n",
    "sns.barplot(x=counts.index, y=counts)\n",
    "plt.title('Transacciones normales contra fraudulentas')\n",
    "plt.ylabel('Count')\n",
    "plt.xlabel('Class (0:Normales, 1:Fraudulentas)')\n"
   ]
  },
  {
   "cell_type": "markdown",
   "metadata": {},
   "source": [
    "Observamos ahora la correlacion entre nuestras variables, para este caso usamos un mapa de calor, podemos apreciar una fuerte correlacion entre nuestras variables y las variables de clase.\n",
    "Visualicemos nuestro algoritmo: \n"
   ]
  },
  {
   "cell_type": "code",
   "execution_count": 1,
   "metadata": {
    "collapsed": false
   },
   "outputs": [
    {
     "name": "stdout",
     "output_type": "stream",
     "text": [
      "             Var        V1        V2  ...       V28    Amount     Class\n",
      "Var     1.000000  0.139439 -0.038180  ... -0.000669 -0.009194 -0.059608\n",
      "V1      0.139439  1.000000 -0.326759  ... -0.056911 -0.208454 -0.391060\n",
      "V2     -0.038180 -0.326759  1.000000  ... -0.052532 -0.501140  0.372244\n",
      "V3     -0.185765  0.484560 -0.408068  ... -0.039208 -0.147528 -0.569067\n",
      "V4     -0.125990 -0.279497  0.266135  ...  0.053758  0.095444  0.512064\n",
      "V5      0.184853  0.457110 -0.290087  ... -0.048134 -0.298085 -0.380176\n",
      "V6     -0.032212  0.089315 -0.135573  ...  0.062639  0.204001 -0.194888\n",
      "V7      0.116759  0.486588 -0.470636  ...  0.072419  0.247992 -0.527325\n",
      "V8     -0.069866 -0.071541  0.031140  ... -0.033491 -0.068391  0.093921\n",
      "V9      0.050420  0.263985 -0.250592  ...  0.035151 -0.024197 -0.399792\n",
      "V10     0.075346  0.420311 -0.359026  ...  0.020854 -0.070770 -0.622983\n",
      "V11    -0.230156 -0.300984  0.282850  ...  0.028729  0.016035  0.559960\n",
      "V12     0.130645  0.402597 -0.376569  ... -0.020242 -0.000617 -0.686879\n",
      "V13    -0.063115 -0.012954  0.010750  ...  0.014771  0.019868 -0.008057\n",
      "V14     0.016930  0.346429 -0.347768  ... -0.061900  0.023143 -0.745179\n",
      "V15    -0.191291  0.038567 -0.029814  ...  0.000797 -0.005513 -0.007546\n",
      "V16     0.074973  0.396511 -0.335107  ...  0.015371 -0.008550 -0.605122\n",
      "V17     0.051947  0.468831 -0.397873  ...  0.001536 -0.003592 -0.658189\n",
      "V18     0.125035  0.342541 -0.289528  ...  0.022519  0.024477 -0.430216\n",
      "V19     0.002151 -0.125755  0.091627  ...  0.012584 -0.047809  0.194352\n",
      "V20    -0.044795 -0.109643  0.004901  ... -0.070530  0.395129  0.075577\n",
      "V21    -0.001856 -0.037659  0.034218  ...  0.062427  0.099216  0.136412\n",
      "V22     0.121660 -0.007847  0.003364  ... -0.042209 -0.075112  0.019350\n",
      "V23     0.052965 -0.019138  0.036302  ... -0.124321 -0.162992 -0.001006\n",
      "V24    -0.010736 -0.022497 -0.002381  ...  0.024989  0.015432 -0.022442\n",
      "V25    -0.214930 -0.017198  0.038099  ... -0.017606 -0.110758  0.001027\n",
      "V26    -0.048627  0.011219  0.007860  ... -0.001511 -0.021555  0.006866\n",
      "V27    -0.036592  0.089717  0.009629  ...  0.040162 -0.006339  0.051615\n",
      "V28    -0.000669 -0.056911 -0.052532  ...  1.000000  0.101373  0.056108\n",
      "Amount -0.009194 -0.208454 -0.501140  ...  0.101373  1.000000  0.021524\n",
      "Class  -0.059608 -0.391060  0.372244  ...  0.056108  0.021524  1.000000\n",
      "\n",
      "[31 rows x 31 columns]\n",
      "Var        0.020035\n",
      "V1        -4.481444\n",
      "V2        -1.166526\n",
      "V3        -5.227091\n",
      "V4         1.673269\n",
      "V5        -4.156938\n",
      "V6         1.592675\n",
      "V7        -6.333446\n",
      "V8        -7.102290\n",
      "V9        -0.904524\n",
      "V10       -3.997582\n",
      "V11        2.196309\n",
      "V12       -4.851446\n",
      "V13        0.082059\n",
      "V14       -4.475472\n",
      "V15       -0.350468\n",
      "V16       -4.172801\n",
      "V17       -6.310052\n",
      "V18       -2.447589\n",
      "V19        0.399981\n",
      "V20        1.846739\n",
      "V21        6.780115\n",
      "V22       -0.660020\n",
      "V23       -1.468532\n",
      "V24       -0.582787\n",
      "V25       -0.471139\n",
      "V26        0.464624\n",
      "V27       -3.600876\n",
      "V28       12.924812\n",
      "Amount    18.509846\n",
      "Class      4.624390\n",
      "dtype: float64\n",
      "<h3 align='center'><img src='https://scontent.fmex5-1.fna.fbcdn.net/v/t39.30808-6/314994008_3266203003644346_7089088876615726276_n.jpg?_nc_cat=110&ccb=1-7&_nc_sid=730e14&_nc_eui2=AeG9QwqXt_Q6U6crevf8Sj5LWfhNwXZEqIVZ-E3BdkSohXYH9lbQ4tIaEAhl7obyyVEkzl8acUgFkbO1cKisvAIw&_nc_ohc=yElQnkHCudMAX9qnhdn&_nc_ht=scontent.fmex5-1.fna&oh=00_AfAuERME4HAOWPBKyVaIcs9HPP2ACrUO4tN2HXwB07BhPw&oe=636DDA4A' alt='python' width='400' height='400'>\n"
     ]
    }
   ],
   "source": [
    "corr = df.corr()\n",
    "print (corr)\n",
    "#Mapa de calor para visualización\n",
    "corr = df.corr()\n",
    "plt.figure(figsize=(12,10))\n",
    "heat = sns.heatmap(data=corr)\n",
    "plt.title('Mapa de calor para correlacion')\n",
    "#Simetria\n",
    "skew_ = df.skew()\n",
    "print (skew_)\n"
   ]
  },
  {
   "cell_type": "markdown",
   "metadata": {},
   "source": [
    "## **Algoritmo nivel 2**\n",
    "### **Description:**\n",
    "Your task is write a function which formats a duration, given as a number of seconds, in a human-friendly way.\n",
    "The function must accept a non-negative integer. If it is zero, it just returns 'now'. Otherwise, the duration is expressed as a combination of years, days, hours, minutes and seconds.\n",
    "For the purpose of this problem, a year is 365 days and a day is 24 hours.\n",
    "Note that spaces are important.\n",
    "### Detailed rules\n",
    "The resulting expression is made of components like 4 seconds, 1 year, etc. In general, a positive integer and one of the valid units of time, separated by a space. The unit of time is used in plural if the integer is greater than 1.\n",
    "The components are separated by a comma and a space (', '). Except the last component, which is separated by ' and ', just like it would be written in English.\n",
    "A more significant units of time will occur before than a least significant one. Therefore, 1 second and 1 year is not correct, but 1 year and 1 second is.\n",
    "Different components have different unit of times. So there is not repeated units like in 5 seconds and 1 second.\n",
    "A component will not appear at all if its value happens to be zero. Hence, 1 minute and 0 seconds is not valid, but it should be just 1 minute.\n",
    "A unit of time must be used 'as much as possible'. It means that the function should not return 61 seconds, but 1 minute and 1 second instead. Formally, the duration specified by of a component must not be greater than any valid more significant unit of time.\n"
   ]
  },
  {
   "cell_type": "code",
   "execution_count": 2,
   "metadata": {
    "collapsed": false
   },
   "outputs": [
    {
     "name": "stdout",
     "output_type": "stream",
     "text": [
      "1 year, 2 hours, 2 minutes and 59 seconds\n",
      "1 minute and 2 seconds\n",
      "1 hour, 1 minute and 2 seconds\n",
      "now\n",
      "-1 year, -2 hours, -2 minutes and -59 seconds\n",
      "-1 minute and -2 seconds\n",
      "-1 hour, -1 minute and -2 seconds\n",
      "now\n"
     ]
    }
   ],
   "source": [
    "### Algoritmo nivel 2\n",
    "import math #Libreria a usar\n",
    "from math import * #lo que importaremos de la libreria\n",
    "def time(n): \n",
    "    if n == 0:\n",
    "        return 'now' #si el tiempo es igual a cero inmediatamente nos arroja el ahora\n",
    "    else:\n",
    "        diva = math.trunc(n/31536000) #divisivilidad por años\n",
    "        n = n-diva*31536000 #Se modifica el valor de n\n",
    "        divd = math.trunc(n/86400) #divisivilidad por dias\n",
    "        n = n-divd*86400 #Se modifica el valor de n\n",
    "        divh = math.trunc(n/3600) #divisivilidad por horas\n",
    "        n = n-divh*3600 #Se modifica el valor de n\n",
    "        divm = math.trunc(n/60) #divisivilidad por minutos\n",
    "        divs = n-divm*60 #divisivilidad por segundos\n",
    "        divlists = [diva,divd,divh,divm,divs] #En esta lista guardamos nuestras unidades de tiempo\n",
    "        year = str(diva)+' years' if diva > 1 or diva < -1 else str(diva)+' year' #Convertimos a strings\n",
    "        day = str(divd)+' days' if divd > 1 or divd < -1 else str(divd)+' day' #Convertimos a strings\n",
    "        hour = str(divh)+' hours' if divh > 1 or divh < -1 else str(divh)+' hour' #Convertimos a strings\n",
    "        minute = str(divm)+' minutes' if divm > 1 or divm < -1 else str(divm)+' minute' #Convertimos a strings\n",
    "        second = str(divs)+' seconds' if divs > 1 or divs < -1 else str(divs)+' second' #Convertimos a strings\n",
    "        tl = [year,day,hour,minute,second] #Lista de unidades de tiempo\n",
    "        date = [tl[i] for i in range(len(divlists)) if divlists[i] != 0] #aqui seleccionamos solo a los que tienen tiempos distintos de cero\n",
    "        predate = [', '.join(date[:len(date)-1]), date[-1]] #unimos en un string\n",
    "        return ' and '.join(predate)\n",
    "\n",
    "### Pruebas\n",
    "print (time(31536000+7200+120+59))\n",
    "print (time(62))\n",
    "print (time(3662))\n",
    "print (time(0))\n",
    "print (time(-31536000-7200-120-59))\n",
    "print (time(-62))\n",
    "print (time(-3662))\n",
    "print (time(-0))\n"
   ]
  },
  {
   "cell_type": "markdown",
   "metadata": {},
   "source": [
    "## **Algoritmo nivel 3**\n",
    "### **Description:**\n",
    "My friend John likes to go to the cinema. He can choose between system A and system B.\n",
    "System A : he buys a ticket (15 dollars) every time\n",
    "System B : he buys a card (500 dollars) and a first ticket for 0.90 times the ticket price, then for each additional ticket he pays 0.90 times the price paid for the previous ticket.\n",
    "John wants to know how many times he must go to the cinema so that the final result of System B, when rounded up to the next dollar, will be cheaper than System A.\n",
    "The function movie has 3 parameters: card (price of the card), ticket (normal price of ticket), perc (fraction of what he paid for the previous ticket) and returns the first n such that\n"
   ]
  },
  {
   "cell_type": "code",
   "execution_count": 2,
   "metadata": {
    "collapsed": false
   },
   "outputs": [
    {
     "name": "stdout",
     "output_type": "stream",
     "text": [
      "You must go 43 times to the cinema, with card the total price is 634, with tickets 645\n",
      "You must go 24 times to the cinema, with card the total price is 235, with tickets 240\n"
     ]
    }
   ],
   "source": [
    "### Algoritmo nivel 3\n",
    "\n",
    "def movie(card, ticket, perc):\n",
    "    SA = ticket\n",
    "    SB = card#+ticket*(perc)\n",
    "    count = 1\n",
    "    while SB > SA:\n",
    "        SA = ticket*count\n",
    "        SB = SB+ticket*(perc**count)\n",
    "        count+=1\n",
    "    return 'You must go '+str(count-1)+' times to the cinema, with card the total price is '+str(round(SB))+', with tickets '+str(SA) #es count-1 porque el while suma 1 al final del ciclo\n",
    "\n",
    "### Pruebas\n",
    "print (movie(500,15,0.9))\n",
    "print (movie(100,10,0.95))\n"
   ]
  }  
 ],
 "metadata": {
  "kernelspec": {
   "display_name": "Python 3",
   "language": "python",
   "name": "python3"
  },
  "language_info": {
   "codemirror_mode": {
    "name": "ipython",
    "version": 3
   },
   "file_extension": ".py",
   "mimetype": "text/x-python",
   "name": "python",
   "nbconvert_exporter": "python",
   "pygments_lexer": "ipython3",
   "version": "3.7.3"
  }
 },
 "nbformat": 4,
 "nbformat_minor": 2
}
