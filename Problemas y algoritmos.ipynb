{
 "cells": [
  {
   "cell_type": "markdown",
   "metadata": {},
   "source": [
    "# **> Problemas y algoritmos_**\n",
    "## **Algoritmo nivel 1**\n",
    "### **Description:**\n",
    "Write a function that takes a string of parentheses, and determines if the order of the parentheses is valid. The function should return **true** if the string is valid, and **false** if it's invalid.\n"
   ]
  },
  {
   "cell_type": "code",
   "execution_count": 1,
   "metadata": {
    "collapsed": false
   },
   "outputs": [
    {
     "name": "stdout",
     "output_type": "stream",
     "text": [
      "True\n",
      "True\n",
      "False\n",
      "False\n",
      "False\n",
      "False\n",
      "False\n"
     ]
    }
   ],
   "source": [
    "def parenthesis(string):\n",
    "    string = string.replace(' ','') #Esto es por si por algun motivo hay espacios en el string\n",
    "    if string.count('(') == string.count(')'): #esto es para asegurar que podemos juntar parejas de parentesis\n",
    "        while len(string) > 2: #Solo nos queremos quedar con un par de parentesis\n",
    "            string = string.replace('()','') #Quitaremos las parejas ya hechas\n",
    "    return string.count('()') == 1 and len(string) == 2 #Si solo nos queda una pareja y nuestro string es de tamaño 2 entonces tenemos un string correcto\n",
    "\n",
    "### Pruebas\n",
    "print (parenthesis('(())((()())())')) #true\n",
    "print (parenthesis('()')) #true\n",
    "print (parenthesis(')(()))')) #false\n",
    "print (parenthesis(')(')) #false\n",
    "print (parenthesis('(')) #false\n",
    "print (parenthesis(')((')) #false\n",
    "print (parenthesis(')))))))))')) #false\n"
   ]
  },
  {
   "cell_type": "markdown",
   "metadata": {},
   "source": [
    "## **Algoritmo nivel 2**\n",
    "### **Description:**\n",
    "Your task is write a function which formats a duration, given as a number of seconds, in a human-friendly way.\n",
    "The function must accept a non-negative integer. If it is zero, it just returns 'now'. Otherwise, the duration is expressed as a combination of years, days, hours, minutes and seconds.\n",
    "For the purpose of this problem, a year is 365 days and a day is 24 hours.\n",
    "Note that spaces are important.\n",
    "### Detailed rules\n",
    "The resulting expression is made of components like 4 seconds, 1 year, etc. In general, a positive integer and one of the valid units of time, separated by a space. The unit of time is used in plural if the integer is greater than 1.\n",
    "The components are separated by a comma and a space (', '). Except the last component, which is separated by ' and ', just like it would be written in English.\n",
    "A more significant units of time will occur before than a least significant one. Therefore, 1 second and 1 year is not correct, but 1 year and 1 second is.\n",
    "Different components have different unit of times. So there is not repeated units like in 5 seconds and 1 second.\n",
    "A component will not appear at all if its value happens to be zero. Hence, 1 minute and 0 seconds is not valid, but it should be just 1 minute.\n",
    "A unit of time must be used 'as much as possible'. It means that the function should not return 61 seconds, but 1 minute and 1 second instead. Formally, the duration specified by of a component must not be greater than any valid more significant unit of time.\n"
   ]
  },
  {
   "cell_type": "code",
   "execution_count": 1,
   "metadata": {
    "collapsed": false
   },
   "outputs": [
    {
     "name": "stdout",
     "output_type": "stream",
     "text": [
      "True\n",
      "True\n",
      "False\n",
      "False\n",
      "False\n",
      "False\n",
      "False\n"
     ]
    }
   ],
   "source": [
    "def parenthesis(string):\n",
    "    string = string.replace(' ','') #Esto es por si por algun motivo hay espacios en el string\n",
    "    if string.count('(') == string.count(')'): #esto es para asegurar que podemos juntar parejas de parentesis\n",
    "        while len(string) > 2: #Solo nos queremos quedar con un par de parentesis\n",
    "            string = string.replace('()','') #Quitaremos las parejas ya hechas\n",
    "    return string.count('()') == 1 and len(string) == 2 #Si solo nos queda una pareja y nuestro string es de tamaño 2 entonces tenemos un string correcto\n",
    "\n",
    "### Pruebas\n",
    "print (parenthesis('(())((()())())')) #true\n",
    "print (parenthesis('()')) #true\n",
    "print (parenthesis(')(()))')) #false\n",
    "print (parenthesis(')(')) #false\n",
    "print (parenthesis('(')) #false\n",
    "print (parenthesis(')((')) #false\n",
    "print (parenthesis(')))))))))')) #false\n"
   ]
  },
  {
   "cell_type": "markdown",
   "metadata": {},
   "source": [
    "##    b) Simular 5 sorteos con sustitución.\n"
   ]
  },
  {
   "cell_type": "code",
   "execution_count": null,
   "metadata": {},
   "outputs": [],
   "source": [
    "import random\n",
    "print(\"ok, ahora deberás adivinar que colores saldrán xd\")\n",
    "lis=[]\n",
    "print(\"\")\n",
    "print(\"   Blanco (Bl)\")\n",
    "print(\"   Negro (Ne)\")\n",
    "print(\"   Rojo (Ro)\")\n",
    "print(\"   Azul (Az)\")\n",
    "print(\"   Verde (Ve)\")\n",
    "print(\"\")\n",
    "print (\"ok, tendrás que escribir que colores saldran y en que orden, por ejemplo, rojo, rojo, azul, blanco, negro (Ro, Ro, Az, Bl, Ne), capicci? Unicamente 5\")\n",
    "l = 0\n",
    "while l < 5:\n",
    "  f = str(input(\">> \"))\n",
    "  lis.append(f)\n",
    "  l = l+1\n",
    "m = 0\n",
    "reptar = 0\n",
    "while m < 5:\n",
    "  t = random.random()\n",
    "  if t < 0.2:\n",
    "    if lis[m] = = 'Bl': #Blanco\n",
    "      print (\"Blanco, ¡Ganaste!\")\n",
    "      reptar = reptar+1\n",
    "    else:\n",
    "      print (\"Blanco, ¡Perdiste! xD\")\n",
    "  elif t > 0.2 and t < 0.4:\n",
    "    if lis[m] = = 'Ne': #Negro\n",
    "      print (\"Negro, ¡Ganaste!\")\n",
    "      reptar = reptar+1\n",
    "    else:\n",
    "      print (\"Negro, ¡Perdiste! xD\")\n",
    "  elif t > 0.4 and t < 0.6:\n",
    "    if lis[m] = = 'Ro': #Rojo\n",
    "      print (\"Rojo, ¡Ganaste!\")\n",
    "      reptar = reptar+1\n",
    "    else:\n",
    "      print (\"Rojo, ¡Perdiste! xD\")\n",
    "  elif t > 0.6 and t < 0.8:\n",
    "    if lis[m] = = 'Az': #Azul\n",
    "      print (\"Azul, ¡Ganaste!\")\n",
    "      reptar = reptar+1\n",
    "    else:\n",
    "      print (\"Azul, ¡Perdiste! xD\")\n",
    "  else:\n",
    "    if lis[m] = = 'Ve': #Verde\n",
    "      print (\"Verde, ¡Ganaste!\")\n",
    "      reptar = reptar+1\n",
    "    else:\n",
    "      print (\"Verde, ¡Perdiste! xD\")\n",
    "  m = m+1\n",
    "print(\"\")\n",
    "print (\"Veamos cuantos adivinaste xd\")\n",
    "print(\"\")\n",
    "print (\"Adivinaste: \",reptar,\" Nada mal :y\")\n",
    "print(\"\")\n"
   ]
  }
 ],
 "metadata": {
  "kernelspec": {
   "display_name": "Python 3",
   "language": "python",
   "name": "python3"
  },
  "language_info": {
   "codemirror_mode": {
    "name": "ipython",
    "version": 3
   },
   "file_extension": ".py",
   "mimetype": "text/x-python",
   "name": "python",
   "nbconvert_exporter": "python",
   "pygments_lexer": "ipython3",
   "version": "3.7.3"
  }
 },
 "nbformat": 4,
 "nbformat_minor": 2
}
